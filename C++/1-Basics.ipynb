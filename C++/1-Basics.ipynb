{
 "cells": [
  {
   "attachments": {},
   "cell_type": "markdown",
   "id": "ed57c80a",
   "metadata": {},
   "source": [
    "# 1. Basics of C++"
   ]
  },
  {
   "attachments": {},
   "cell_type": "markdown",
   "id": "63308994",
   "metadata": {},
   "source": [
    "**Introduction**\n",
    "\n",
    "The code in this notebook is running via a C++ kernal, \"cling\", which executes the code in the code blocks in a more \"pythonic\" way. This was done so that markdown can be used to break up code blocks to make the learning process more interactive for any readers. The aim of this notebook is to be used as a quick reference for syntax and not as a comprehensive guide as to what exactly is happening under the hood. Despite this, I have annotated my code and provided concise explanations as to when to use certain methods over others."
   ]
  },
  {
   "attachments": {},
   "cell_type": "markdown",
   "id": "fe8dba16",
   "metadata": {},
   "source": [
    "**Notes for common errors (read after reading the rest of the page)**\n",
    "- Unlike in Python, in C++, strings are always surrounded by double quotes \"\" and char values are always surrounded by single quotes ''. If you make the mistake of mixing them up you will get type errors"
   ]
  },
  {
   "attachments": {},
   "cell_type": "markdown",
   "id": "db75f814",
   "metadata": {},
   "source": [
    "### INPUT AND OUTPUT"
   ]
  },
  {
   "cell_type": "code",
   "execution_count": null,
   "id": "33e065bf",
   "metadata": {
    "vscode": {
     "languageId": "cpp"
    }
   },
   "outputs": [],
   "source": [
    "#include <iostream>\n",
    "#include <cstdio>\n",
    "\n",
    "// We could use \"using \"namespace std;\" line instead of \"#include <iostream>\" but for some reason cling c++ notebooks dont like this :(\n",
    "\n",
    "// Also, one very annoying thing about c++ cling notebooks is that we cant have more than one function per code block >: (\n",
    "    \n",
    "int main() {\n",
    "    \n",
    "    printf(\"Hello, World! \\n\");\n",
    "    printf(\"%s\", \"Hello, World! \\n\");\n",
    "    \n",
    "    std::cout << \"Hello, World!\" << std::endl;\n",
    "    std::cout << \"Hello, \" << \"World! \\n\";\n",
    "    \n",
    "    return 0;\n",
    "}\n",
    "\n",
    "\n",
    "\n",
    "/*\n",
    "int two(int a, int b){\n",
    "    return a+b;\n",
    "}\n",
    "\n",
    "/ Notice if you uncomment this block we get an error \"function definition is not allowed here\"\n",
    "\n",
    "*/\n",
    "\n",
    "main()"
   ]
  },
  {
   "cell_type": "code",
   "execution_count": null,
   "id": "165cf53c",
   "metadata": {
    "vscode": {
     "languageId": "cpp"
    }
   },
   "outputs": [],
   "source": [
    "//using namespace std;\n",
    "\n",
    "/*\n",
    "\n",
    "WE CANNOT RUN THIS CODE BLOCK\n",
    "\n",
    "Again, annoyingly, the cling c++ kernal does not take user input and if you run code that tries to take user input, the cell will run indefinitely unless it is\n",
    "terminated. Therefore, we cannot run this code. Therefore I have commented out the main() function call.\n",
    "\n",
    "*/\n",
    "#include <iostream>\n",
    "\n",
    "int main() {\n",
    "      \n",
    "    \n",
    "    int num1, num2, num3;\n",
    "    \n",
    "    \n",
    "    \n",
    "    std::cin >> num1 >> num2 >> num3;\n",
    "    \n",
    "    std::cout << num1 + num2 + num3;\n",
    "\n",
    "    \n",
    "    scanf(\"%d %d %d\", &num1, &num2, &num3);\n",
    "    printf(\"%d\", num1 + num2 + num3);\n",
    "\n",
    "\n",
    "    // We can take in %d for integers, %f for floats, %s for strings. The printf and scanf is the C version of doing thigs.\n",
    "\n",
    "    /*\n",
    "    \n",
    "    TYPE SPECIFIERS:\n",
    "\n",
    "    int %d\n",
    "    long %ld\n",
    "    char %c\n",
    "    float %f\n",
    "    double %lf\n",
    "    \n",
    "    */\n",
    "    \n",
    "    \n",
    "    return 0;\n",
    "}\n",
    "\n",
    "//main()\n"
   ]
  },
  {
   "attachments": {},
   "cell_type": "markdown",
   "id": "f1ab67b5",
   "metadata": {},
   "source": [
    "### CONDITIONAL STATEMENTS"
   ]
  },
  {
   "attachments": {},
   "cell_type": "markdown",
   "id": "e134f999",
   "metadata": {},
   "source": [
    "**IF/ELSE/ELSE IF**"
   ]
  },
  {
   "cell_type": "code",
   "execution_count": null,
   "id": "72ceae27",
   "metadata": {
    "vscode": {
     "languageId": "cpp"
    }
   },
   "outputs": [],
   "source": [
    "#include <iostream>\n",
    "\n",
    "int greeting(int time){\n",
    "    if (time < 1200) {\n",
    "        std::cout << \"Good morning\\n\";\n",
    "    }\n",
    "\n",
    "    else if (time < 1600) {\n",
    "        std::cout << \"Good afternoon\\n\";\n",
    "    }\n",
    "\n",
    "    else if (time < 2000) {\n",
    "        std::cout << \"Good evening\\n\";\n",
    "    }\n",
    "\n",
    "    else {\n",
    "        std::cout << \"Good night\\n\";\n",
    "    }\n",
    "\n",
    "    return (0);\n",
    "}"
   ]
  },
  {
   "cell_type": "code",
   "execution_count": null,
   "id": "631fc5ce",
   "metadata": {
    "vscode": {
     "languageId": "cpp"
    }
   },
   "outputs": [],
   "source": [
    "greeting(921);\n",
    "greeting(1259);\n",
    "greeting(2230);"
   ]
  },
  {
   "attachments": {},
   "cell_type": "markdown",
   "id": "cc6e25f7",
   "metadata": {},
   "source": [
    "**CASE**\n",
    "\n",
    "- switch() takes variable name input and \"case\" preceeds the variable value that dictates whether the proceeding code runs\n",
    "- Need a break; between cases\n",
    "- Else replaced by default:"
   ]
  },
  {
   "cell_type": "code",
   "execution_count": null,
   "id": "6d0e2ffe",
   "metadata": {
    "vscode": {
     "languageId": "cpp"
    }
   },
   "outputs": [],
   "source": [
    "int number(int n){\n",
    "    switch (n) {\n",
    "        case 1:\n",
    "            printf(\"one\");\n",
    "            break;\n",
    "        case 2:\n",
    "            printf(\"two\");\n",
    "            break;\n",
    "        case 3:\n",
    "            printf(\"three\");\n",
    "            break;\n",
    "        case 4:\n",
    "            printf(\"four\");\n",
    "            break;\n",
    "        case 5:\n",
    "            printf(\"five\");\n",
    "            break;\n",
    "        case 6:\n",
    "            printf(\"six\");\n",
    "            break;\n",
    "        case 7:\n",
    "            printf(\"seven\");\n",
    "            break;\n",
    "        case 8:\n",
    "            printf(\"eight\");\n",
    "            break;\n",
    "        case 9:\n",
    "            printf(\"nine\");\n",
    "            break;\n",
    "        default:\n",
    "            printf(\"Greater than 9\");\n",
    "        }\n",
    "    \n",
    "    return (0);\n",
    "}"
   ]
  },
  {
   "cell_type": "code",
   "execution_count": null,
   "id": "54f46289",
   "metadata": {
    "vscode": {
     "languageId": "cpp"
    }
   },
   "outputs": [],
   "source": [
    "number(5)"
   ]
  },
  {
   "attachments": {},
   "cell_type": "markdown",
   "id": "a8fc0982",
   "metadata": {},
   "source": [
    "### FOR LOOPS\n",
    "\n",
    "- Loop counter \"for\" takes inputs (int i = 0; i < N; i++) for a generic for loop from 0 to N\n",
    "- More generally, it takes input (int counter = initial_value; statement_returns_boolean; change_counter_operation)\n",
    "- *You can do many special things using the loop counter process, its much more flexible than the usual for loop methods in python*"
   ]
  },
  {
   "cell_type": "code",
   "execution_count": null,
   "id": "45503802",
   "metadata": {
    "vscode": {
     "languageId": "cpp"
    }
   },
   "outputs": [],
   "source": [
    "void counter( void ) {\n",
    "\n",
    "    int j = 0;\n",
    "    for (int i = -2; i < 1000; i = i * i) {\n",
    "\n",
    "        j++;\n",
    "        printf(\"%d %d\\n\", j, i);\n",
    "\n",
    "    }\n",
    "\n",
    "    printf(\"Second Loop\\n\");\n",
    "\n",
    "    j = 0;\n",
    "    for (int i = 200.0; i + 50; i = i - 50){\n",
    "        j++;\n",
    "        printf(\"%d %d\\n\", j, i);\n",
    "    }\n",
    "\n",
    "\n",
    "}"
   ]
  },
  {
   "cell_type": "code",
   "execution_count": null,
   "id": "e6a71cc6",
   "metadata": {
    "vscode": {
     "languageId": "cpp"
    }
   },
   "outputs": [],
   "source": [
    "#include <iostream>\n",
    "\n",
    "counter();\n",
    "printf(\"Boolean comparisons : \\n\");\n",
    "std::cout << bool(1) << \"\\n\";\n",
    "std::cout << bool(-1) << \"\\n\";\n",
    "std::cout << bool(0) << \"\\n\";\n"
   ]
  },
  {
   "attachments": {},
   "cell_type": "markdown",
   "id": "3be4e94f",
   "metadata": {},
   "source": [
    "### FOREACH LOOPS"
   ]
  },
  {
   "cell_type": "code",
   "execution_count": null,
   "id": "d4d8c6a4",
   "metadata": {
    "vscode": {
     "languageId": "cpp"
    }
   },
   "outputs": [],
   "source": [
    "int main( void ){\n",
    "\n",
    "    int multiples_of_ten[] = {10, 20, 30, 40, 50};\n",
    "\n",
    "    for (int ten : multiples_of_ten){\n",
    "        printf(\"%d\\n\", ten);\n",
    "    }\n",
    "\n",
    "    return (0);\n",
    "\n",
    "\n",
    "}"
   ]
  },
  {
   "cell_type": "code",
   "execution_count": null,
   "id": "42ef7e3a",
   "metadata": {
    "vscode": {
     "languageId": "cpp"
    }
   },
   "outputs": [],
   "source": [
    "main()"
   ]
  },
  {
   "attachments": {},
   "cell_type": "markdown",
   "id": "5d1e8a2c",
   "metadata": {},
   "source": [
    "### FUNCTIONS\n",
    "\n",
    "- Functions must be defined above where they are called in the program\n",
    "- Must specify type of return variable and type of parameter variable (if return type or parameter type is None we use keyword \"void\")"
   ]
  },
  {
   "cell_type": "code",
   "execution_count": null,
   "id": "bbd74baa",
   "metadata": {
    "vscode": {
     "languageId": "cpp"
    }
   },
   "outputs": [],
   "source": [
    "int max_of_four(int a, int b, int c, int d){\n",
    "    \n",
    "    int max_number = a;\n",
    "    \n",
    "    for (int number : {b,c,d}){\n",
    "        \n",
    "        if (number > max_number){\n",
    "            \n",
    "            max_number = number;\n",
    "        }\n",
    "        \n",
    "    }\n",
    "    \n",
    "    return max_number;\n",
    "}"
   ]
  },
  {
   "cell_type": "code",
   "execution_count": null,
   "id": "dc885c75",
   "metadata": {
    "vscode": {
     "languageId": "cpp"
    }
   },
   "outputs": [],
   "source": [
    "max_of_four(4,1,10,8)"
   ]
  },
  {
   "attachments": {},
   "cell_type": "markdown",
   "id": "b3fa1207",
   "metadata": {},
   "source": [
    "### POINTERS*\n",
    "\n",
    "- Used to share a memory address among different contexts (primarily functions). They are used whenever a function needs to modify the content of a variable, but it does not have ownership.\n",
    "- Example : (declaring and assigning pointer variable) : int *my_pointer = &value;"
   ]
  },
  {
   "cell_type": "code",
   "execution_count": null,
   "id": "46fb38f0",
   "metadata": {
    "vscode": {
     "languageId": "cpp"
    }
   },
   "outputs": [],
   "source": [
    "// A TRIVIAL, UNUSEFUL EXAMPLE\n",
    "\n",
    "\n",
    "void foo( void ){\n",
    "\n",
    "    int x = 4;\n",
    "\n",
    "    /*\n",
    "    \n",
    "    The int * pX; declares a pointer that will point to an integer datatype\n",
    "\n",
    "    = &x; actually points it to what we want it to point to (the value of variable x)\n",
    "    \n",
    "    */\n",
    "\n",
    "\n",
    "    int *pX = &x;\n",
    "\n",
    "    int *ppX = &*pX;\n",
    "\n",
    "    printf(\"%d\\n\", *pX);\n",
    "    printf(\"%d\", *ppX);\n",
    "\n",
    "}"
   ]
  },
  {
   "cell_type": "code",
   "execution_count": null,
   "id": "e5dd409d",
   "metadata": {
    "vscode": {
     "languageId": "cpp"
    }
   },
   "outputs": [],
   "source": [
    "foo()"
   ]
  },
  {
   "attachments": {},
   "cell_type": "markdown",
   "id": "aa17ab8a",
   "metadata": {},
   "source": [
    "### VECTORS vs ARRAYS (+ dynamic memory)\n",
    "\n",
    "**Arrays**\n",
    "\n",
    "- Provide contiguous, indexible series of elements\n",
    "- Fixed size\n",
    "- Cannot be returned by a function unless using std::array\n",
    "- Take storage space in scope where it is declared\n",
    "- Can be statically or dynamically allocated (dynamically using new keyword or malloc)\n",
    "- If dynamically allocated 1) we just get a pointer and we cannot check for the array's size anymore and 2) We need to free up the\n",
    "memory at the end of the array's use\n",
    "\n",
    "**Vectors**\n",
    "\n",
    "- Is a template class and therefore a C++ construct only and cannot be used in C\n",
    "- Automatically implemented as a dynamic array\n",
    "- Automatically manage their memory and gets freed automatically\n",
    "- Can be passed and returned to and from functions by value\n",
    "- Doesn't decay into a pointer, but we can use a pointer to it the same way we can for arrays (ptr = &vec[0])\n",
    "- *Like lists in Python, these are dynamically resized so we can add values to end etc. and perform operations that require resizing*"
   ]
  },
  {
   "cell_type": "code",
   "execution_count": 5,
   "id": "634fa4b1",
   "metadata": {
    "vscode": {
     "languageId": "cpp"
    }
   },
   "outputs": [],
   "source": [
    "#include <stdio.h>\n",
    "#include <stdlib.h>\n",
    "#include <vector>\n",
    "\n",
    "int main ( void ) {\n",
    "\n",
    "\n",
    "    // ARRAYS (we have to set a size)\n",
    "\n",
    "    int array_size = 4;\n",
    "\n",
    "    int   val_static_array[array_size];\n",
    "\n",
    "    int * ptr_dynamic_array_one = new int(array_size);\n",
    "\n",
    "    int * ptr_dynamic_array_two = (int *) malloc( array_size * sizeof(int) );\n",
    "\n",
    "\n",
    "    // VECTOR (we do not set a size when we declare)\n",
    "\n",
    "    std::vector<int> vect_dynamic_array_three;\n",
    "\n",
    "\n",
    "    // Vectors have some other special methods, such as .push_back(new_element) to append elements and \n",
    "    // .pop_back() to remove elements from the end\n",
    "\n",
    "\n",
    "\n",
    "\n",
    "    return (0);\n",
    "\n",
    "\n",
    "}"
   ]
  },
  {
   "cell_type": "code",
   "execution_count": 4,
   "id": "d59f5e44",
   "metadata": {
    "vscode": {
     "languageId": "cpp"
    }
   },
   "outputs": [],
   "source": [
    "#include <stdio.h>\n",
    "#include <stdlib.h>\n",
    "#include <vector>\n",
    "\n",
    "int main ( void ) {\n",
    "\n",
    "\n",
    "    // STATIC ARRAYS (we have to set a size)\n",
    "\n",
    "    int array_size = 4;\n",
    "\n",
    "    int   val_static_array[array_size];\n",
    "\n",
    "\n",
    "    // DYNAMIC ARRAYS (new & delete + malloc & free)\n",
    "\n",
    "    int * ptr_dynamic_array_one = new int(array_size);\n",
    "\n",
    "    int * ptr_dynamic_array_two = (int *) malloc( array_size * sizeof(int) );\n",
    "\n",
    "    delete (ptr_dynamic_array_one);\n",
    "\n",
    "    free (ptr_dynamic_array_two);\n",
    "\n",
    "    // VECTOR (we do not set a size when we declare)\n",
    "\n",
    "    std::vector<int> vect_dynamic_array_three;\n",
    "\n",
    "\n",
    "\n",
    "\n",
    "    \n",
    "\n",
    "\n",
    "}"
   ]
  },
  {
   "attachments": {},
   "cell_type": "markdown",
   "id": "ccd12dca",
   "metadata": {},
   "source": [
    "### 2D VECTORS AND ARRAYS (+ dynamic memory)"
   ]
  },
  {
   "cell_type": "code",
   "execution_count": 7,
   "id": "5cc1a299",
   "metadata": {
    "vscode": {
     "languageId": "cpp"
    }
   },
   "outputs": [],
   "source": [
    "#include <stdio.h>\n",
    "#include <stdlib.h>\n",
    "#include <vector>\n",
    "\n",
    "int arr ( void ){\n",
    "\n",
    "    // State the dimensions of the array\n",
    "\n",
    "    int n = 3; // n columns\n",
    "    int m = 3; // m rows\n",
    "\n",
    "\n",
    "\n",
    "    // 2D static array\n",
    "    int static_2D[m][n]; // m rows, n columns\n",
    "\n",
    "\n",
    "\n",
    "\n",
    "\n",
    "    /* \n",
    "    2D dynamic array using new (here we are creating an array of pointers)\n",
    "    */\n",
    "\n",
    "    // Part 1 : Creation of empty pointer array\n",
    "    int ** dynamic_2D = new int * [m];\n",
    "\n",
    "    // Part 2 : Populating the pointer array with pointers to integer arrays\n",
    "    for (int i = 0; i < m; i++) {\n",
    "        dynamic_2D[i] = new int[n];\n",
    "    }\n",
    "\n",
    "    // Part 3 : Freeing up the space at the end of the program\n",
    "    for (int i; i < m; i++) {\n",
    "        delete[] dynamic_2D[i];\n",
    "    }\n",
    "    delete[] dynamic_2D;\n",
    "\n",
    "\n",
    "\n",
    "\n",
    "\n",
    "    /* \n",
    "    2D dynamic array using malloc\n",
    "    */\n",
    "\n",
    "    // Part 1 : Creation of 2d pointer array\n",
    "    int ** dynamic_2D_malloc = (int **) malloc(m * sizeof(int * ));\n",
    "\n",
    "    // Part 2 : Populating pointer array with pointers linked to integer arrays\n",
    "    for (int i = 0; i<m; i++) {\n",
    "        dynamic_2D_malloc[i] = (int *)malloc(n * sizeof(int));\n",
    "    }\n",
    "\n",
    "    // Part 3 : Freeing up the space at the end of the program\n",
    "    for (int i = 0; i<m; i++){\n",
    "        free(dynamic_2D_malloc[i]);\n",
    "    }\n",
    "    free(dynamic_2D_malloc);\n",
    "\n",
    "\n",
    "    \n",
    "\n",
    "    /*\n",
    "    2D dynamic arrays using vectors\n",
    "    */\n",
    "\n",
    "    std::vector<std::vector<int>> dynamic_2d_vector;\n",
    "    \n",
    "\n",
    "    \n",
    "\n",
    "\n",
    "\n",
    "\n",
    "    return (0);\n",
    "\n",
    "}"
   ]
  }
 ],
 "metadata": {
  "kernelspec": {
   "display_name": "C++17",
   "language": "C++17",
   "name": "xcpp17"
  },
  "language_info": {
   "codemirror_mode": "text/x-c++src",
   "file_extension": ".cpp",
   "mimetype": "text/x-c++src",
   "name": "C++17",
   "version": "17"
  }
 },
 "nbformat": 4,
 "nbformat_minor": 5
}
