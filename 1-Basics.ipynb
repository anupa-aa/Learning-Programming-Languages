{
 "cells": [
  {
   "attachments": {},
   "cell_type": "markdown",
   "id": "ed57c80a",
   "metadata": {},
   "source": [
    "# Quickstart Guide to C++"
   ]
  },
  {
   "attachments": {},
   "cell_type": "markdown",
   "id": "63308994",
   "metadata": {},
   "source": [
    "**Introduction**\n",
    "\n",
    "The code in this notebook is running via a C++ kernal, \"cling\", which executes the code in the code blocks in a more \"pythonic\" way. This was done so that markdown can be used to break up code blocks to make the learning process more interactive for any readers. The aim of this notebook is to be used as a quick reference for syntax and not as a comprehensive guide as to what exactly is happening under the hood. Despite this, I have annotated my code and provided concise explanations as to when to use certain methods over others."
   ]
  },
  {
   "attachments": {},
   "cell_type": "markdown",
   "id": "db75f814",
   "metadata": {},
   "source": [
    "**INPUT AND OUTPUT**"
   ]
  },
  {
   "cell_type": "code",
   "execution_count": 5,
   "id": "33e065bf",
   "metadata": {
    "vscode": {
     "languageId": "cpp"
    }
   },
   "outputs": [
    {
     "name": "stdout",
     "output_type": "stream",
     "text": [
      "Hello, World! \n",
      "Hello, World! \n",
      "Hello, World!\n",
      "Hello, World! \n"
     ]
    },
    {
     "data": {
      "text/plain": [
       "0"
      ]
     },
     "execution_count": 5,
     "metadata": {},
     "output_type": "execute_result"
    }
   ],
   "source": [
    "#include <iostream>\n",
    "#include <cstdio>\n",
    "\n",
    "// We could use \"using \"namespace std;\" line instead of \"#include <iostream>\" but for some reason cling c++ notebooks dont like this :(\n",
    "\n",
    "// Also, one very annoying thing about c++ cling notebooks is that we cant have more than one function per code block >: (\n",
    "    \n",
    "int main() {\n",
    "    \n",
    "    printf(\"Hello, World! \\n\");\n",
    "    printf(\"%s\", \"Hello, World! \\n\");\n",
    "    \n",
    "    std::cout << \"Hello, World!\" << std::endl;\n",
    "    std::cout << \"Hello, \" << \"World! \\n\";\n",
    "    \n",
    "    return 0;\n",
    "}\n",
    "\n",
    "\n",
    "\n",
    "/*\n",
    "int two(int a, int b){\n",
    "    return a+b;\n",
    "}\n",
    "\n",
    "/ Notice if you uncomment this block we get an error \"function definition is not allowed here\"\n",
    "\n",
    "*/\n",
    "\n",
    "main()"
   ]
  },
  {
   "cell_type": "code",
   "execution_count": 6,
   "id": "165cf53c",
   "metadata": {
    "vscode": {
     "languageId": "cpp"
    }
   },
   "outputs": [],
   "source": [
    "//using namespace std;\n",
    "\n",
    "/*\n",
    "\n",
    "WE CANNOT RUN THIS CODE BLOCK\n",
    "\n",
    "Again, annoyingly, the cling c++ kernal does not take user input and if you run code that tries to take user input, the cell will run indefinitely unless it is\n",
    "terminated. Therefore, we cannot run this code. Therefore I have commented out the main() function call.\n",
    "\n",
    "*/\n",
    "#include <iostream>\n",
    "\n",
    "int main() {\n",
    "      \n",
    "    \n",
    "    int num1, num2, num3;\n",
    "    \n",
    "    \n",
    "    \n",
    "    std::cin >> num1 >> num2 >> num3;\n",
    "    \n",
    "    std::cout << num1 + num2 + num3;\n",
    "\n",
    "    \n",
    "    scanf(\"%d %d %d\", &num1, &num2, &num3);\n",
    "    printf(\"%d\", num1 + num2 + num3);\n",
    "\n",
    "\n",
    "    // We can take in %d for integers, %f for floats, %s for strings. The printf and scanf is the C version of doing thigs.\n",
    "    \n",
    "    \n",
    "    return 0;\n",
    "}\n",
    "\n",
    "//main()\n"
   ]
  },
  {
   "cell_type": "code",
   "execution_count": null,
   "id": "72ceae27",
   "metadata": {
    "vscode": {
     "languageId": "cpp"
    }
   },
   "outputs": [],
   "source": []
  }
 ],
 "metadata": {
  "kernelspec": {
   "display_name": "C++17",
   "language": "C++17",
   "name": "xcpp17"
  },
  "language_info": {
   "codemirror_mode": "text/x-c++src",
   "file_extension": ".cpp",
   "mimetype": "text/x-c++src",
   "name": "c++",
   "version": "17"
  }
 },
 "nbformat": 4,
 "nbformat_minor": 5
}
