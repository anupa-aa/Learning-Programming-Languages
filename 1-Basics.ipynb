{
 "cells": [
  {
   "attachments": {},
   "cell_type": "markdown",
   "id": "ed57c80a",
   "metadata": {},
   "source": [
    "# 1. Basics of C++"
   ]
  },
  {
   "attachments": {},
   "cell_type": "markdown",
   "id": "63308994",
   "metadata": {},
   "source": [
    "**Introduction**\n",
    "\n",
    "The code in this notebook is running via a C++ kernal, \"cling\", which executes the code in the code blocks in a more \"pythonic\" way. This was done so that markdown can be used to break up code blocks to make the learning process more interactive for any readers. The aim of this notebook is to be used as a quick reference for syntax and not as a comprehensive guide as to what exactly is happening under the hood. Despite this, I have annotated my code and provided concise explanations as to when to use certain methods over others."
   ]
  },
  {
   "attachments": {},
   "cell_type": "markdown",
   "id": "db75f814",
   "metadata": {},
   "source": [
    "### INPUT AND OUTPUT"
   ]
  },
  {
   "cell_type": "code",
   "execution_count": null,
   "id": "33e065bf",
   "metadata": {
    "vscode": {
     "languageId": "cpp"
    }
   },
   "outputs": [],
   "source": [
    "#include <iostream>\n",
    "#include <cstdio>\n",
    "\n",
    "// We could use \"using \"namespace std;\" line instead of \"#include <iostream>\" but for some reason cling c++ notebooks dont like this :(\n",
    "\n",
    "// Also, one very annoying thing about c++ cling notebooks is that we cant have more than one function per code block >: (\n",
    "    \n",
    "int main() {\n",
    "    \n",
    "    printf(\"Hello, World! \\n\");\n",
    "    printf(\"%s\", \"Hello, World! \\n\");\n",
    "    \n",
    "    std::cout << \"Hello, World!\" << std::endl;\n",
    "    std::cout << \"Hello, \" << \"World! \\n\";\n",
    "    \n",
    "    return 0;\n",
    "}\n",
    "\n",
    "\n",
    "\n",
    "/*\n",
    "int two(int a, int b){\n",
    "    return a+b;\n",
    "}\n",
    "\n",
    "/ Notice if you uncomment this block we get an error \"function definition is not allowed here\"\n",
    "\n",
    "*/\n",
    "\n",
    "main()"
   ]
  },
  {
   "cell_type": "code",
   "execution_count": null,
   "id": "165cf53c",
   "metadata": {
    "vscode": {
     "languageId": "cpp"
    }
   },
   "outputs": [],
   "source": [
    "//using namespace std;\n",
    "\n",
    "/*\n",
    "\n",
    "WE CANNOT RUN THIS CODE BLOCK\n",
    "\n",
    "Again, annoyingly, the cling c++ kernal does not take user input and if you run code that tries to take user input, the cell will run indefinitely unless it is\n",
    "terminated. Therefore, we cannot run this code. Therefore I have commented out the main() function call.\n",
    "\n",
    "*/\n",
    "#include <iostream>\n",
    "\n",
    "int main() {\n",
    "      \n",
    "    \n",
    "    int num1, num2, num3;\n",
    "    \n",
    "    \n",
    "    \n",
    "    std::cin >> num1 >> num2 >> num3;\n",
    "    \n",
    "    std::cout << num1 + num2 + num3;\n",
    "\n",
    "    \n",
    "    scanf(\"%d %d %d\", &num1, &num2, &num3);\n",
    "    printf(\"%d\", num1 + num2 + num3);\n",
    "\n",
    "\n",
    "    // We can take in %d for integers, %f for floats, %s for strings. The printf and scanf is the C version of doing thigs.\n",
    "\n",
    "    /*\n",
    "    \n",
    "    TYPE SPECIFIERS:\n",
    "\n",
    "    int %d\n",
    "    long %ld\n",
    "    char %c\n",
    "    float %f\n",
    "    double %lf\n",
    "    \n",
    "    */\n",
    "    \n",
    "    \n",
    "    return 0;\n",
    "}\n",
    "\n",
    "//main()\n"
   ]
  },
  {
   "attachments": {},
   "cell_type": "markdown",
   "id": "f1ab67b5",
   "metadata": {},
   "source": [
    "### CONDITIONAL STATEMENTS"
   ]
  },
  {
   "attachments": {},
   "cell_type": "markdown",
   "id": "e134f999",
   "metadata": {},
   "source": [
    "**IF/ELSE/ELSE IF**"
   ]
  },
  {
   "cell_type": "code",
   "execution_count": null,
   "id": "72ceae27",
   "metadata": {
    "vscode": {
     "languageId": "cpp"
    }
   },
   "outputs": [],
   "source": [
    "#include <iostream>\n",
    "\n",
    "int greeting(int time){\n",
    "    if (time < 1200) {\n",
    "        std::cout << \"Good morning\\n\";\n",
    "    }\n",
    "\n",
    "    else if (time < 1600) {\n",
    "        std::cout << \"Good afternoon\\n\";\n",
    "    }\n",
    "\n",
    "    else if (time < 2000) {\n",
    "        std::cout << \"Good evening\\n\";\n",
    "    }\n",
    "\n",
    "    else {\n",
    "        std::cout << \"Good night\\n\";\n",
    "    }\n",
    "\n",
    "    return (0);\n",
    "}"
   ]
  },
  {
   "cell_type": "code",
   "execution_count": null,
   "id": "631fc5ce",
   "metadata": {
    "vscode": {
     "languageId": "cpp"
    }
   },
   "outputs": [],
   "source": [
    "greeting(921);\n",
    "greeting(1259);\n",
    "greeting(2230);"
   ]
  },
  {
   "attachments": {},
   "cell_type": "markdown",
   "id": "cc6e25f7",
   "metadata": {},
   "source": [
    "**CASE**\n",
    "\n",
    "- switch() takes variable name input and \"case\" preceeds the variable value that dictates whether the proceeding code runs\n",
    "- Need a break; between cases\n",
    "- Else replaced by default:"
   ]
  },
  {
   "cell_type": "code",
   "execution_count": 3,
   "id": "6d0e2ffe",
   "metadata": {
    "vscode": {
     "languageId": "cpp"
    }
   },
   "outputs": [],
   "source": [
    "int number(int n){\n",
    "    switch (n) {\n",
    "        case 1:\n",
    "            printf(\"one\");\n",
    "            break;\n",
    "        case 2:\n",
    "            printf(\"two\");\n",
    "            break;\n",
    "        case 3:\n",
    "            printf(\"three\");\n",
    "            break;\n",
    "        case 4:\n",
    "            printf(\"four\");\n",
    "            break;\n",
    "        case 5:\n",
    "            printf(\"five\");\n",
    "            break;\n",
    "        case 6:\n",
    "            printf(\"six\");\n",
    "            break;\n",
    "        case 7:\n",
    "            printf(\"seven\");\n",
    "            break;\n",
    "        case 8:\n",
    "            printf(\"eight\");\n",
    "            break;\n",
    "        case 9:\n",
    "            printf(\"nine\");\n",
    "            break;\n",
    "        default:\n",
    "            printf(\"Greater than 9\");\n",
    "        }\n",
    "    \n",
    "    return (0);\n",
    "}"
   ]
  },
  {
   "cell_type": "code",
   "execution_count": 4,
   "id": "54f46289",
   "metadata": {
    "vscode": {
     "languageId": "cpp"
    }
   },
   "outputs": [
    {
     "name": "stdout",
     "output_type": "stream",
     "text": [
      "five"
     ]
    },
    {
     "data": {
      "text/plain": [
       "0"
      ]
     },
     "execution_count": 4,
     "metadata": {},
     "output_type": "execute_result"
    }
   ],
   "source": [
    "number(5)"
   ]
  },
  {
   "attachments": {},
   "cell_type": "markdown",
   "id": "a8fc0982",
   "metadata": {},
   "source": [
    "### FOR LOOPS\n",
    "\n",
    "- Loop counter \"for\" takes inputs (int i = 0; i < N; i++) for a generic for loop from 0 to N\n",
    "- More generally, it takes input (int counter = initial_value; statement_returns_boolean; change_counter_operation)\n",
    "- *You can do many special things using the loop counter process, its much more flexible than the usual for loop methods in python*"
   ]
  },
  {
   "cell_type": "code",
   "execution_count": 28,
   "id": "45503802",
   "metadata": {
    "vscode": {
     "languageId": "cpp"
    }
   },
   "outputs": [],
   "source": [
    "void counter( void ) {\n",
    "\n",
    "    int j = 0;\n",
    "    for (int i = -2; i < 1000; i = i * i) {\n",
    "\n",
    "        j++;\n",
    "        printf(\"%d %d\\n\", j, i);\n",
    "\n",
    "    }\n",
    "\n",
    "    printf(\"Second Loop\\n\");\n",
    "\n",
    "    j = 0;\n",
    "    for (int i = 200.0; i + 50; i = i - 50){\n",
    "        j++;\n",
    "        printf(\"%d %d\\n\", j, i);\n",
    "    }\n",
    "\n",
    "\n",
    "}"
   ]
  },
  {
   "cell_type": "code",
   "execution_count": 30,
   "id": "e6a71cc6",
   "metadata": {
    "vscode": {
     "languageId": "cpp"
    }
   },
   "outputs": [
    {
     "name": "stdout",
     "output_type": "stream",
     "text": [
      "1 -2\n",
      "2 4\n",
      "3 16\n",
      "4 256\n",
      "Second Loop\n",
      "1 200\n",
      "2 150\n",
      "3 100\n",
      "4 50\n",
      "5 0\n",
      "Boolean comparisons : \n",
      "1\n",
      "1\n",
      "0\n"
     ]
    }
   ],
   "source": [
    "#include <iostream>\n",
    "\n",
    "counter();\n",
    "printf(\"Boolean comparisons : \\n\");\n",
    "std::cout << bool(1) << \"\\n\";\n",
    "std::cout << bool(-1) << \"\\n\";\n",
    "std::cout << bool(0) << \"\\n\";\n"
   ]
  },
  {
   "attachments": {},
   "cell_type": "markdown",
   "id": "3be4e94f",
   "metadata": {},
   "source": [
    "### FOREACH LOOPS"
   ]
  },
  {
   "cell_type": "code",
   "execution_count": 35,
   "id": "d4d8c6a4",
   "metadata": {
    "vscode": {
     "languageId": "cpp"
    }
   },
   "outputs": [],
   "source": [
    "int main( void ){\n",
    "\n",
    "    int multiples_of_ten[] = {10, 20, 30, 40, 50};\n",
    "\n",
    "    for (int ten : multiples_of_ten){\n",
    "        printf(\"%d\\n\", ten);\n",
    "    }\n",
    "\n",
    "    return (0);\n",
    "\n",
    "\n",
    "}"
   ]
  },
  {
   "cell_type": "code",
   "execution_count": 36,
   "id": "42ef7e3a",
   "metadata": {
    "vscode": {
     "languageId": "cpp"
    }
   },
   "outputs": [
    {
     "name": "stdout",
     "output_type": "stream",
     "text": [
      "10\n",
      "20\n",
      "30\n",
      "40\n",
      "50\n"
     ]
    },
    {
     "data": {
      "text/plain": [
       "0"
      ]
     },
     "execution_count": 36,
     "metadata": {},
     "output_type": "execute_result"
    }
   ],
   "source": [
    "main()"
   ]
  },
  {
   "cell_type": "code",
   "execution_count": 38,
   "id": "bbd74baa",
   "metadata": {
    "vscode": {
     "languageId": "cpp"
    }
   },
   "outputs": [
    {
     "name": "stdout",
     "output_type": "stream",
     "text": [
      "0"
     ]
    }
   ],
   "source": [
    "printf(\"%d\",4%2);"
   ]
  },
  {
   "cell_type": "code",
   "execution_count": null,
   "id": "dc885c75",
   "metadata": {
    "vscode": {
     "languageId": "cpp"
    }
   },
   "outputs": [],
   "source": []
  }
 ],
 "metadata": {
  "kernelspec": {
   "display_name": "C++17",
   "language": "C++17",
   "name": "xcpp17"
  },
  "language_info": {
   "codemirror_mode": "text/x-c++src",
   "file_extension": ".cpp",
   "mimetype": "text/x-c++src",
   "name": "c++",
   "version": "17"
  }
 },
 "nbformat": 4,
 "nbformat_minor": 5
}
